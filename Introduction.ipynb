{
 "worksheets": [
  {
   "cells": [
    {
     "cell_type": "heading",
     "metadata": {},
     "level": 1,
     "source": [
      "Introduction to Building Energy Simulation with Python"
     ]
    },
    {
     "cell_type": "heading",
     "metadata": {},
     "level": 2,
     "source": [
      "Author: Zixiao Shi"
     ]
    },
    {
     "cell_type": "markdown",
     "metadata": {},
     "source": [
      "This is a series of Jupyter notebook about topics on building energy simulation. This book is a work in progress. Pull requests are welcomed! Tentative topics are (not ordered as of now):\n",
      "\n",
      "1. Fundamentals:\n",
      "\t1. Psychrometrics\n",
      "\t2. [Solar Angle Calculation](SolarAngle.ipynb)\n",
      "\t3. State-Space Problem and Network Method\n",
      "\t4. 1-D Conduction Heat Transfer\n",
      "\t5. Convection Heat Transfer\n",
      "\t6. Radiation Heat Transfer \n",
      "\n",
      "2. Zone Energy Balance:\n",
      "\t1. Zone Model Formalization\n",
      "\t2. Zone Energy Balance Method\n",
      "\t3. Mechanical System\n"
     ]
    },
    {
     "cell_type": "code",
     "metadata": {},
     "outputs": [],
     "input": [
      ""
     ],
     "language": "python"
    }
   ]
  }
 ],
 "cells": [],
 "metadata": {},
 "nbformat": 3,
 "nbformat_minor": 0
}