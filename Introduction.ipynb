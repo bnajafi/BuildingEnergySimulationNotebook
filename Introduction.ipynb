{
 "worksheets": [
  {
   "cells": [
    {
     "cell_type": "heading",
     "metadata": {},
     "level": 1,
     "source": [
      "Introduction to Building Energy Simulation with Python"
     ]
    },
    {
     "cell_type": "heading",
     "metadata": {},
     "level": 2,
     "source": [
      "Author: Zixiao Shi"
     ]
    },
    {
     "cell_type": "markdown",
     "metadata": {},
     "source": [
      "This is a series of Jupyter notebook about topics on building energy simulation. This book is a work in progress. Pull requests are welcomed! Tentative topics are (not ordered as of now):\n"
     ]
    },
    {
     "cell_type": "code",
     "metadata": {},
     "outputs": [],
     "input": [
      ""
     ],
     "language": "python"
    }
   ]
  }
 ],
 "cells": [],
 "metadata": {},
 "nbformat": 3,
 "nbformat_minor": 0
}