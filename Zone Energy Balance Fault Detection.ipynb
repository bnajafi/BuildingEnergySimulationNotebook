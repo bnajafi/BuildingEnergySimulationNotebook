{
 "cells": [
  {
   "cell_type": "code",
   "execution_count": 1,
   "metadata": {
    "collapsed": true
   },
   "outputs": [],
   "source": [
    "%matplotlib inline"
   ]
  },
  {
   "cell_type": "markdown",
   "metadata": {},
   "source": [
    "This is a five paremeter room RC model\n",
    "\n",
    "dT = T(-dt/RC) + T_out(dt/RC) + E_lux(rho1*dt/C) + Occu(Q_int*dt/C) + Rads(Q_rad*dt/C) + q_vav(T_dat-T)*(rho2*dt/C) + dw\n",
    "\n",
    "rho1: correlation between light intensity sensor and solar gain/electric lighting\n",
    "rho2: correlation between the mass flow rate and volumetric flow rate\n",
    "Simplified form:\n",
    "\n",
    "dT = -T*x2 + T_out*x2 + E_lux*x3 + Occu * x4 + Rads *x5 - T*q_vav*x6 + T_sup * q_vav * x6 + x7\n"
   ]
  },
  {
   "cell_type": "code",
   "execution_count": 13,
   "metadata": {
    "collapsed": false
   },
   "outputs": [],
   "source": [
    "import numpy as np\n",
    "import sympy\n",
    "x1, x2, x3, x4, x5, x6, x7, u1, u2, u3, u4, u5, u6= sympy.symbols('x1 x2 x3 x4 x5 x6 x7 u1 u2 u3 u4 u5 u6')\n",
    "X = sympy.Matrix([[x1],\n",
    "                      [x2],\n",
    "                      [x3],\n",
    "                      [x4],\n",
    "                      [x5],\n",
    "                      [x6],\n",
    "                      [x7]])\n",
    "U = sympy.Matrix([[u1],\n",
    "                      [u2],\n",
    "                      [u3],\n",
    "                      [u4],\n",
    "                      [u5],\n",
    "                      [u6]])\n",
    "fun = sympy.Matrix([[x1-x1*x2+u1*x2+u2*x3+u3*x4+u4*x5+u5*u6*x6-x1*u6*x6+x7],\n",
    "                          [x2],\n",
    "                          [x3],\n",
    "                          [x4],\n",
    "                          [x5],\n",
    "                          [x6],\n",
    "                          [x7]])"
   ]
  },
  {
   "cell_type": "code",
   "execution_count": 14,
   "metadata": {
    "collapsed": false
   },
   "outputs": [
    {
     "name": "stdout",
     "output_type": "stream",
     "text": [
      "[[ 0.01  0.    0.    0.    0.    0.    0.  ]\n",
      " [ 0.    0.    0.    0.    0.    0.    0.  ]\n",
      " [ 0.    0.    0.    0.    0.    0.    0.  ]\n",
      " [ 0.    0.    0.    0.    0.    0.    0.  ]\n",
      " [ 0.    0.    0.    0.    0.    0.    0.  ]\n",
      " [ 0.    0.    0.    0.    0.    0.    0.  ]\n",
      " [ 0.    0.    0.    0.    0.    0.    0.  ]]\n"
     ]
    }
   ],
   "source": [
    "P = np.eye(7)\n",
    "q = np.array([0.1, 0.0, 0.0, 0.0, 0.0, 0.0, 0.0])[np.newaxis]\n",
    "Q = q.T * q\n",
    "print(Q)"
   ]
  },
  {
   "cell_type": "code",
   "execution_count": 40,
   "metadata": {
    "collapsed": false
   },
   "outputs": [],
   "source": [
    "R = np.matrix([[0.3,0.02,0.01,0.01,0.01,0.01,0.01],\n",
    "               [0.002,0.001,0.003,0.002,0.001,0.002,0.001],\n",
    "               [0.02,0.04,0.04,0.02,0.03,0.01,0.02],\n",
    "               [0.001,0.002,0.002,0.005,0.004,0.003,0.002],\n",
    "              [0.0000,0.0002,0.0002,0.0005,0.0004,0.0003,0.0002],\n",
    "              [0.0002,0.0002,0.0002,0.0005,0.0004,0.0003,0.0002],\n",
    "              [0.0,0.0002,0.0002,0.0005,0.0005,0.0003,0.0],])\n",
    "H = sympy.Matrix([x1, 0, 0, 0, 0, 0, 0])"
   ]
  },
  {
   "cell_type": "code",
   "execution_count": 37,
   "metadata": {
    "collapsed": true
   },
   "outputs": [],
   "source": [
    "import pandas as pd\n",
    "import library.EKF as EKF\n",
    "data = pd.read_csv('data/EP_Temperature.csv')\n",
    "state_estimates = np.matrix([[data['IAT'][0]],\n",
    "                            [0.0045],\n",
    "                            [0.0003],\n",
    "                            [0.01],\n",
    "                            [0.1],\n",
    "                            [0.0035],\n",
    "                            [0.02]])\n",
    "\n",
    "temp_ekf = EKF.ExtendedKalmanFilter(fun, X, U, P, Q, H, R, state_estimates) "
   ]
  },
  {
   "cell_type": "code",
   "execution_count": 42,
   "metadata": {
    "collapsed": false
   },
   "outputs": [
    {
     "ename": "LinAlgError",
     "evalue": "Singular matrix",
     "output_type": "error",
     "traceback": [
      "\u001b[0;31m---------------------------------------------------------------------------\u001b[0m",
      "\u001b[0;31mLinAlgError\u001b[0m                               Traceback (most recent call last)",
      "\u001b[0;32m<ipython-input-42-4a8adee1ea8b>\u001b[0m in \u001b[0;36m<module>\u001b[0;34m()\u001b[0m\n\u001b[1;32m     31\u001b[0m     \u001b[0mactual\u001b[0m\u001b[0;34m.\u001b[0m\u001b[0mappend\u001b[0m\u001b[0;34m(\u001b[0m\u001b[0mdata\u001b[0m\u001b[0;34m[\u001b[0m\u001b[0;34m\"IAT\"\u001b[0m\u001b[0;34m]\u001b[0m\u001b[0;34m[\u001b[0m\u001b[0mi\u001b[0m\u001b[0;34m]\u001b[0m\u001b[0;34m)\u001b[0m\u001b[0;34m\u001b[0m\u001b[0m\n\u001b[1;32m     32\u001b[0m     \u001b[0mmeasured\u001b[0m\u001b[0;34m.\u001b[0m\u001b[0mappend\u001b[0m\u001b[0;34m(\u001b[0m\u001b[0mmeas\u001b[0m\u001b[0;34m)\u001b[0m\u001b[0;34m\u001b[0m\u001b[0m\n\u001b[0;32m---> 33\u001b[0;31m     \u001b[0mtemp_ekf\u001b[0m\u001b[0;34m.\u001b[0m\u001b[0mupdate\u001b[0m\u001b[0;34m(\u001b[0m\u001b[0mnp\u001b[0m\u001b[0;34m.\u001b[0m\u001b[0mmatrix\u001b[0m\u001b[0;34m(\u001b[0m\u001b[0;34m[\u001b[0m\u001b[0;34m[\u001b[0m\u001b[0mmeas\u001b[0m\u001b[0;34m]\u001b[0m\u001b[0;34m,\u001b[0m\u001b[0;34m[\u001b[0m\u001b[0;36m0\u001b[0m\u001b[0;34m]\u001b[0m\u001b[0;34m,\u001b[0m\u001b[0;34m[\u001b[0m\u001b[0;36m0\u001b[0m\u001b[0;34m]\u001b[0m\u001b[0;34m,\u001b[0m\u001b[0;34m[\u001b[0m\u001b[0;36m0\u001b[0m\u001b[0;34m]\u001b[0m\u001b[0;34m,\u001b[0m\u001b[0;34m[\u001b[0m\u001b[0;36m0\u001b[0m\u001b[0;34m]\u001b[0m\u001b[0;34m,\u001b[0m\u001b[0;34m[\u001b[0m\u001b[0;36m0\u001b[0m\u001b[0;34m]\u001b[0m\u001b[0;34m,\u001b[0m\u001b[0;34m[\u001b[0m\u001b[0;36m0\u001b[0m\u001b[0;34m]\u001b[0m\u001b[0;34m]\u001b[0m\u001b[0;34m)\u001b[0m\u001b[0;34m)\u001b[0m\u001b[0;34m\u001b[0m\u001b[0m\n\u001b[0m",
      "\u001b[0;32m/Users/admin/PycharmProjects/BuildingEnergySimulationNotebook/library/EKF.py\u001b[0m in \u001b[0;36mupdate\u001b[0;34m(self, measurements)\u001b[0m\n\u001b[1;32m     52\u001b[0m         \u001b[0;31m#print(np.linalg.det(self.S))\u001b[0m\u001b[0;34m\u001b[0m\u001b[0;34m\u001b[0m\u001b[0m\n\u001b[1;32m     53\u001b[0m         \u001b[0mprint\u001b[0m\u001b[0;34m(\u001b[0m\u001b[0mself\u001b[0m\u001b[0;34m.\u001b[0m\u001b[0mS\u001b[0m\u001b[0;34m)\u001b[0m\u001b[0;34m\u001b[0m\u001b[0m\n",
      "\u001b[0;32m/Library/Frameworks/Python.framework/Versions/3.5/lib/python3.5/site-packages/numpy/linalg/linalg.py\u001b[0m in \u001b[0;36minv\u001b[0;34m(a)\u001b[0m\n\u001b[1;32m    524\u001b[0m     \u001b[0msignature\u001b[0m \u001b[0;34m=\u001b[0m \u001b[0;34m'D->D'\u001b[0m \u001b[0;32mif\u001b[0m \u001b[0misComplexType\u001b[0m\u001b[0;34m(\u001b[0m\u001b[0mt\u001b[0m\u001b[0;34m)\u001b[0m \u001b[0;32melse\u001b[0m \u001b[0;34m'd->d'\u001b[0m\u001b[0;34m\u001b[0m\u001b[0m\n\u001b[1;32m    525\u001b[0m     \u001b[0mextobj\u001b[0m \u001b[0;34m=\u001b[0m \u001b[0mget_linalg_error_extobj\u001b[0m\u001b[0;34m(\u001b[0m\u001b[0m_raise_linalgerror_singular\u001b[0m\u001b[0;34m)\u001b[0m\u001b[0;34m\u001b[0m\u001b[0m\n\u001b[0;32m--> 526\u001b[0;31m     \u001b[0mainv\u001b[0m \u001b[0;34m=\u001b[0m \u001b[0m_umath_linalg\u001b[0m\u001b[0;34m.\u001b[0m\u001b[0minv\u001b[0m\u001b[0;34m(\u001b[0m\u001b[0ma\u001b[0m\u001b[0;34m,\u001b[0m \u001b[0msignature\u001b[0m\u001b[0;34m=\u001b[0m\u001b[0msignature\u001b[0m\u001b[0;34m,\u001b[0m \u001b[0mextobj\u001b[0m\u001b[0;34m=\u001b[0m\u001b[0mextobj\u001b[0m\u001b[0;34m)\u001b[0m\u001b[0;34m\u001b[0m\u001b[0m\n\u001b[0m\u001b[1;32m    527\u001b[0m     \u001b[0;32mreturn\u001b[0m \u001b[0mwrap\u001b[0m\u001b[0;34m(\u001b[0m\u001b[0mainv\u001b[0m\u001b[0;34m.\u001b[0m\u001b[0mastype\u001b[0m\u001b[0;34m(\u001b[0m\u001b[0mresult_t\u001b[0m\u001b[0;34m,\u001b[0m \u001b[0mcopy\u001b[0m\u001b[0;34m=\u001b[0m\u001b[0;32mFalse\u001b[0m\u001b[0;34m)\u001b[0m\u001b[0;34m)\u001b[0m\u001b[0;34m\u001b[0m\u001b[0m\n\u001b[1;32m    528\u001b[0m \u001b[0;34m\u001b[0m\u001b[0m\n",
      "\u001b[0;32m/Library/Frameworks/Python.framework/Versions/3.5/lib/python3.5/site-packages/numpy/linalg/linalg.py\u001b[0m in \u001b[0;36m_raise_linalgerror_singular\u001b[0;34m(err, flag)\u001b[0m\n\u001b[1;32m     88\u001b[0m \u001b[0;34m\u001b[0m\u001b[0m\n\u001b[1;32m     89\u001b[0m \u001b[0;32mdef\u001b[0m \u001b[0m_raise_linalgerror_singular\u001b[0m\u001b[0;34m(\u001b[0m\u001b[0merr\u001b[0m\u001b[0;34m,\u001b[0m \u001b[0mflag\u001b[0m\u001b[0;34m)\u001b[0m\u001b[0;34m:\u001b[0m\u001b[0;34m\u001b[0m\u001b[0m\n\u001b[0;32m---> 90\u001b[0;31m     \u001b[0;32mraise\u001b[0m \u001b[0mLinAlgError\u001b[0m\u001b[0;34m(\u001b[0m\u001b[0;34m\"Singular matrix\"\u001b[0m\u001b[0;34m)\u001b[0m\u001b[0;34m\u001b[0m\u001b[0m\n\u001b[0m\u001b[1;32m     91\u001b[0m \u001b[0;34m\u001b[0m\u001b[0m\n\u001b[1;32m     92\u001b[0m \u001b[0;32mdef\u001b[0m \u001b[0m_raise_linalgerror_nonposdef\u001b[0m\u001b[0;34m(\u001b[0m\u001b[0merr\u001b[0m\u001b[0;34m,\u001b[0m \u001b[0mflag\u001b[0m\u001b[0;34m)\u001b[0m\u001b[0;34m:\u001b[0m\u001b[0;34m\u001b[0m\u001b[0m\n",
      "\u001b[0;31mLinAlgError\u001b[0m: Singular matrix"
     ]
    }
   ],
   "source": [
    "import math\n",
    "predicted = []\n",
    "actual = []\n",
    "measured = []\n",
    "estimates = []\n",
    "length = data.shape[0]\n",
    "iterations = length\n",
    "\n",
    "for i in range(1, iterations):\n",
    "    #generate control vector\n",
    "    OAT = data['OAT'][i-1]\n",
    "    Lux = data['Lux'][i-1]\n",
    "    DAT = data[\"DAT\"][i-1]\n",
    "    SAP = math.sqrt(data['SAP'][i-1])\n",
    "    RAD = data['RAD'][i-1]\n",
    "    OCC = data[\"OCC\"][i-1]\n",
    "    controls = np.matrix([[OAT], \n",
    "                          [Lux], \n",
    "                          [OCC], \n",
    "                          [RAD],\n",
    "                          [DAT],\n",
    "                          [SAP]])\n",
    "\n",
    "    #prediction\n",
    "    temp_ekf.predict(controls)\n",
    "    predicted.append(temp_ekf.X_values[0,0])\n",
    "    estimates.append(temp_ekf.X_values.T.reshape(-1,).tolist())\n",
    "\n",
    "    #update\n",
    "    meas = data[\"IAT\"][i]\n",
    "    actual.append(data[\"IAT\"][i])\n",
    "    measured.append(meas)\n",
    "    temp_ekf.update(np.matrix([[meas],[0],[0],[0],[0],[0],[0]]))"
   ]
  },
  {
   "cell_type": "code",
   "execution_count": null,
   "metadata": {
    "collapsed": true
   },
   "outputs": [],
   "source": []
  },
  {
   "cell_type": "code",
   "execution_count": null,
   "metadata": {
    "collapsed": true
   },
   "outputs": [],
   "source": []
  }
 ],
 "metadata": {
  "kernelspec": {
   "display_name": "Python 3",
   "language": "python",
   "name": "python3"
  },
  "language_info": {
   "codemirror_mode": {
    "name": "ipython",
    "version": 3
   },
   "file_extension": ".py",
   "mimetype": "text/x-python",
   "name": "python",
   "nbconvert_exporter": "python",
   "pygments_lexer": "ipython3",
   "version": "3.5.1"
  }
 },
 "nbformat": 4,
 "nbformat_minor": 0
}
