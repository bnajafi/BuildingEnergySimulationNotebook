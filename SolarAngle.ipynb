{
 "cells": [
  {
   "cell_type": "code",
   "execution_count": 8,
   "metadata": {},
   "outputs": [],
   "source": [
    "%matplotlib inline"
   ]
  },
  {
   "cell_type": "markdown",
   "metadata": {},
   "source": [
    "## Solar Angle Calculation"
   ]
  },
  {
   "cell_type": "markdown",
   "metadata": {},
   "source": [
    "To calculate solar time, first thing to do is to calculate approximate solar time based on local time, time zone and daylight saving. Since the local time on your watch is not actual local solar time, but the solar time of the local time zone meridian.\n",
    "$$ AST = LST + ET + 4 ( LSM - LON ) $$\n",
    "where $AST$ is the approximate solar time in minutes, $LST$ is the local standard time in minutes, $LSM$ is the meridian of local standard time in degrees and $LON$ is the local longitude. 4 is the minutes of time required for 1 degree of earth rotation. ET is the equation of time in minutes, obtained by:\n",
    "$$ ET(n) = 9.87sin(4\\pi\\frac{n-81}{364})-7.3cos(2\\pi\\frac{n-81}{364})-1.5sin(2\\pi\\frac{n-81}{364}) $$\n",
    "n is the day of year from 1 to 365.\n",
    "Now to create those to functions in python:"
   ]
  },
  {
   "cell_type": "code",
   "execution_count": 46,
   "metadata": {},
   "outputs": [],
   "source": [
    "from math import pi, sin, cos, asin, acos\n",
    "def EquationTime(n):\n",
    "    if n <1.0 or n > 365.0:\n",
    "        raise ValueError(\"n is the day number between 1 and 365\")\n",
    "    else:\n",
    "        b = 2*math.pi*(n-81.0)/364.0\n",
    "        return 9.87*sin(2*b)-7.3*cos(b)-1.5*sin(b)\n",
    "\n",
    "    \n",
    "def ActualSolarTime(LST, ET, LSM, LON):\n",
    "    #check if LST is valid\n",
    "    if LST<0.0 or LST>1440.0:\n",
    "        raise ValueError(\"Local Standard Time needs to be in minutes and between 0 and 1440\")\n",
    "    #check if ET is valid\n",
    "    if ET<-3.563463668700962:\n",
    "        raise ValueError(\"Equation Time is invalid\")\n",
    "    #check if LSM is valid\n",
    "    if LSM > 180 or LSM < -180:\n",
    "        raise ValueError(\"Local Standard Time Meridian is within -180 and 180 degrees\")\n",
    "    if LON > 180 or LON < -180:\n",
    "        raise ValueError(\"Local Longitude is within -180 and 180 degrees\")\n",
    "    return LST+ET+4*(LSM-LON)"
   ]
  },
  {
   "cell_type": "code",
   "execution_count": 47,
   "metadata": {},
   "outputs": [
    {
     "data": {
      "text/plain": [
       "-3.563463668700962"
      ]
     },
     "execution_count": 47,
     "output_type": "execute_result",
     "metadata": {}
    }
   ],
   "source": [
    "EquationTime(1)"
   ]
  },
  {
   "cell_type": "code",
   "execution_count": 48,
   "metadata": {},
   "outputs": [
    {
     "name": "stdout",
     "output_type": "stream",
     "text": [
      "-5.0\n",
      "-75.0\n"
     ]
    }
   ],
   "source": [
    "from library.Location import Location\n",
    "Ottawa = Location(\"Ottawa\", -75.6919, 45.4214)\n",
    "print(Ottawa.timezone)\n",
    "print(Ottawa.lsm)"
   ]
  },
  {
   "cell_type": "code",
   "execution_count": 49,
   "metadata": {},
   "outputs": [
    {
     "name": "stdout",
     "output_type": "stream",
     "text": [
      "[-0.79586366870094638, 0.20413633129905362, 1.2041363312990536, 2.2041363312990536, 3.2041363312990536, 4.2041363312990541, 5.2041363312990541, 6.2041363312990541, 7.2041363312990541, 8.2041363312990541]\n"
     ]
    }
   ],
   "source": [
    "import numpy as np\n",
    "day = 1\n",
    "et = EquationTime(day)\n",
    "lst = np.arange(24*60)\n",
    "ast = []\n",
    "for i in range(0, 24*60):\n",
    "    ast.append(ActualSolarTime(lst[i],et,Ottawa.lsm,Ottawa.longitude))\n",
    "\n",
    "print(ast[:10])"
   ]
  },
  {
   "cell_type": "markdown",
   "metadata": {},
   "source": [
    "Next is to express the solar time in degrees from the sun's vertical position (noon) to adjust the difference due to time zone:\n",
    "$$ h = (AST-12.00*60)*0.25 $$\n",
    "\n",
    "declination angle, the sun's declination due to earth's rotation, is given by:\n",
    "\n",
    "$$ \\delta = sin^{-1}(sin(\\frac{23.45}{180}\\pi)sin(2\\pi\\frac{284+n}{365}))$$\n",
    "\n",
    "altitude angle can be calculated by:\n",
    "$$ \\alpha = sin^{-1}(sin\\delta sin\\phi + cos\\delta cos\\phi cos(h))$$\n",
    "$\\phi$ is the latitude\n",
    "\n",
    "zenith, $\\theta$, is then\n",
    "$$\\theta = \\frac{1}{2}\\pi - \\alpha$$\n",
    "\n",
    "azimuth angle can be calculated by:\n",
    "$$ azi = cos^{-1}(\\frac{sin\\alpha cos\\phi - sin\\delta}{cos\\alpha cos\\phi})$$\n",
    "\n",
    "So to create this sun class in python:"
   ]
  },
  {
   "cell_type": "code",
   "execution_count": 51,
   "metadata": {},
   "outputs": [],
   "source": [
    "class Sun:\n",
    "    day = 0\n",
    "    \n",
    "    def __init__(self, lat, day, ast):\n",
    "        #latitude of location in rediant\n",
    "        self.latitude = lat/180.0*pi\n",
    "        self.changeDay(day)\n",
    "        self.updateAngles(ast)\n",
    "    \n",
    "    def changeDay(self,day):\n",
    "        day = day\n",
    "        self.declination = asin(sin(23.45/180*pi)*sin(2*pi*(284+day)/365))\n",
    "        \n",
    "    def updateAngles(self,ast):\n",
    "        self.h = (ast-12.00*60)*0.25\n",
    "        self.altitude = asin(sin(self.declination)*sin(self.latitude) + \n",
    "                                  cos(self.declination)*cos(self.latitude)*self.h)\n",
    "        self.zenith = pi/2 - self.altiude\n",
    "        self.azimuth = acos((sin(self.altitude)*cos(self.latitude)-sin(self.declination))/(cos(self.altitude)*cos(self.latitude)))"
   ]
  },
  {
   "cell_type": "code",
   "metadata": {},
   "outputs": [],
   "source": [
    ""
   ]
  }
 ],
 "metadata": {
  "kernelspec": {
   "display_name": "Python 3",
   "language": "python",
   "name": "python3"
  },
  "language_info": {
   "codemirror_mode": {
    "name": "ipython",
    "version": 3.0
   },
   "file_extension": ".py",
   "mimetype": "text/x-python",
   "name": "python",
   "nbconvert_exporter": "python",
   "pygments_lexer": "ipython3",
   "version": "3.5.1"
  }
 },
 "nbformat": 4,
 "nbformat_minor": 0
}