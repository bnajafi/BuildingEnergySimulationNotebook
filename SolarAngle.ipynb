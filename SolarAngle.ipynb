{
 "cells": [
  {
   "cell_type": "code",
   "execution_count": 9,
   "metadata": {},
   "outputs": [],
   "source": [
    "%matplotlib inline"
   ]
  },
  {
   "cell_type": "markdown",
   "metadata": {},
   "source": [
    "## Solar Angle Calculation"
   ]
  },
  {
   "cell_type": "markdown",
   "metadata": {},
   "source": [
    "To calculate solar time, first thing to do is to calculate approximate solar time based on local time, time zone and daylight saving. Since the local time on your watch is not actual local solar time, but the solar time of the local time zone meridian.\n",
    "$$ AST = LST + ET + 4 ( LSM - LON ) $$\n",
    "where $AST$ is the approximate solar time in minutes, $LST$ is the local standard time in minutes, $LSM$ is the meridian of local standard time in degrees and $LON$ is the local longitude. 4 is the minutes of time required for 1 degree of earth rotation. ET is the equation of time in minutes, obtained by:\n",
    "$$ ET(n) = 9.87sin(4\\pi\\frac{n-81}{364})-7.3cos(2\\pi\\frac{n-81}{364})-1.5sin(2\\pi\\frac{n-81}{364}) $$\n",
    "n is the day of year from 1 to 365.\n",
    "Now to create those to functions in python:"
   ]
  },
  {
   "cell_type": "code",
   "execution_count": 10,
   "metadata": {},
   "outputs": [],
   "source": [
    "import math\n",
    "def EquationTime(n):\n",
    "    if n <1.0 or n > 365.0:\n",
    "        raise ValueError(\"n is the day number between 1 and 365\")\n",
    "    else:\n",
    "        b = 2*math.pi*(n-81.0)/364.0\n",
    "        return 9.87*math.sin(2*b)-7.3*math.cos(b)-1.5*math.sin(b)\n",
    "\n",
    "    \n",
    "def ActualSolarTime(LST, ET, LSM, LON):\n",
    "    #check if LST is valid\n",
    "    if LST<0.0 or LST>1440.0:\n",
    "        raise ValueError(\"Local Standard Time needs to be in minutes and between 0 and 1440\")\n",
    "    #check if ET is valid\n",
    "    if ET<-3.563463668700962:\n",
    "        raise ValueError(\"Equation Time is invalid\")\n",
    "    #check if LSM is valid\n",
    "    if LSM > 180 or LSM < -180:\n",
    "        raise ValueError(\"Local Standard Time Meridian is within -180 and 180 degrees\")\n",
    "    if LON > 180 or LON < -180:\n",
    "        raise ValueError(\"Local Longitude is within -180 and 180 degrees\")\n",
    "    return LST+ET+4*(LSM-LON)"
   ]
  },
  {
   "cell_type": "code",
   "execution_count": 11,
   "metadata": {},
   "outputs": [
    {
     "data": {
      "text/plain": [
       "-3.563463668700962"
      ]
     },
     "execution_count": 11,
     "output_type": "execute_result",
     "metadata": {}
    }
   ],
   "source": [
    "EquationTime(1)"
   ]
  },
  {
   "cell_type": "code",
   "execution_count": 12,
   "metadata": {},
   "outputs": [
    {
     "name": "stdout",
     "output_type": "stream",
     "text": [
      "-5.0\n",
      "-75.0\n"
     ]
    }
   ],
   "source": [
    "from library.Location import Location\n",
    "Ottawa = Location(\"Ottawa\", -75.6919, 45.4214)\n",
    "print(Ottawa.timezone)\n",
    "print(Ottawa.lsm)"
   ]
  },
  {
   "cell_type": "code",
   "execution_count": 19,
   "metadata": {},
   "outputs": [
    {
     "name": "stdout",
     "output_type": "stream",
     "text": [
      "[1.3932516400565147, 2.3932516400565147, 3.3932516400565147, 4.3932516400565147, 5.3932516400565147, 6.3932516400565147, 7.3932516400565147, 8.3932516400565156, 9.3932516400565156, 10.393251640056516]\n"
     ]
    }
   ],
   "source": [
    "import numpy as np\n",
    "day = 100\n",
    "et = EquationTime(day)\n",
    "lst = np.arange(24*60)\n",
    "ast = []\n",
    "for i in range(0, 24*60):\n",
    "    ast.append(ActualSolarTime(lst[i],et,Ottawa.lsm,Ottawa.longitude))\n",
    "\n",
    "print(ast[:10])"
   ]
  },
  {
   "cell_type": "markdown",
   "metadata": {},
   "source": [
    "Next is to express the solar time in degrees from the sun's vertical position (noon) to adjust the difference due to time zone:\n",
    "$$ h = (AST-12.00*60)*0.25 $$\n",
    "\n",
    "declination angle, the sun's declination due to earth's rotation, is given by:\n",
    "\n",
    "$$ \\delta = sin^{-1}(sin(\\frac{23.45}{180}\\pi)sin(2\\pi\\frac{284+n}{365}))$$\n",
    "\n",
    "altitude angle can be calculated by:\n",
    "$$ \\alpha = sin^{-1}(sin\\delta sin\\phi + cos\\delta cos\\phi cos(h))$$\n",
    "$\\phi$ is the latitude\n",
    "\n",
    "zenith, $\\theta$, is then\n",
    "$$\\theta = \\frac{1}{2}\\pi - \\alpha$$\n",
    "\n",
    "azimuth angle can be calculated by:\n",
    "$$ A = cos^{-1}(\\frac{sin\\alpha sin\\phi - sin\\delta}{cos\\alpha cos\\phi})\\frac{h}{|h|}$$\n",
    "\n",
    "So to create this sun class in python:"
   ]
  },
  {
   "cell_type": "code",
   "execution_count": 20,
   "metadata": {},
   "outputs": [],
   "source": [
    "class Sun:\n",
    "    day = 0\n",
    "    \n",
    "    def __init__(self, lat, lon, lsm, day, lst, dst):\n",
    "        #all angles are now in radiant\n",
    "        if lat > 180 or lat < -180:\n",
    "            raise ValueError(\"Local Longitude is within -180 and 180 degrees\")\n",
    "        else:\n",
    "            self.latitude = lat/180.0*math.pi\n",
    "        if lon > 180 or lon < -180:\n",
    "            raise ValueError(\"Local Longitude is within -180 and 180 degrees\")\n",
    "        else:\n",
    "            self.longitude = lon/180.0*math.pi\n",
    "        if lsm > 180 or lsm < -180:\n",
    "            raise ValueError(\"Local Standard Time Meridian is within -180 and 180 degrees\")\n",
    "        else:\n",
    "            self.localStandardMeridian = lsm/180.0*math.pi\n",
    "        #daytime saving time range, like [star_date, end_date] as [50,100]\n",
    "        self.dst = dst\n",
    "        self.changeDay(day)\n",
    "        self.update(lst)\n",
    "       \n",
    "    def changeDay(self,day):\n",
    "        if day <1.0 or day > 365.0:\n",
    "            raise ValueError(\"n is the day number between 1 and 365\")\n",
    "        else:\n",
    "            self.day = day\n",
    "            self.declination = math.asin(math.sin(23.45/180*math.pi)*math.sin(2*math.pi*(284+day)/365))\n",
    "            #time equation\n",
    "            b = 2*math.pi*(day-81.0)/364.0\n",
    "            self.et=9.87*math.sin(2*b)-7.3*math.cos(b)-1.5*math.sin(b)\n",
    "            #time correction factor\n",
    "            self.tc = self.et + 4*180/math.pi*(self.localStandardMeridian-self.longitude)\n",
    "            #sun rise time in local time\n",
    "            self.sunrise = 12*60 - 4*180/math.pi*math.acos(-math.tan(self.latitude)*math.tan(self.declination)) - self.tc\n",
    "            #sun set time in local time\n",
    "            self.sunset = 12*60 + 4*180/math.pi*math.acos(-math.tan(self.latitude)*math.tan(self.declination)) - self.tc\n",
    "    \n",
    "    def update(self, lst):\n",
    "        self.updateSolarTime(lst)\n",
    "        self.updateAngles(self.ast)\n",
    "    \n",
    "    def updateSolarTime(self, lst):\n",
    "        #check if LST is valid\n",
    "        if lst<0.0 or lst>1440.0:\n",
    "            raise ValueError(\"Local Standard Time needs to be in minutes and between 0 and 1440\")\n",
    "        #check if LSM is valid\n",
    "        if self.day >= self.dst[0] and self.day <= self.dst[1]:\n",
    "            self.lst = lst-1\n",
    "        else:\n",
    "            self.lst = lst\n",
    "        self.ast=self.lst + self.tc\n",
    "\n",
    "    def updateAngles(self,ast):\n",
    "        self.h = (ast-12.00*60)*0.25 * math.pi/180\n",
    "        self.altitude = math.asin(math.sin(self.declination)*math.sin(self.latitude) + \\\n",
    "                                  math.cos(self.declination)*math.cos(self.latitude)*math.cos(self.h))\n",
    "        self.zenith = math.pi/2 - self.altitude\n",
    "        self.azimuth = math.acos((math.sin(self.altitude)*math.sin(self.latitude)-math.sin(self.declination))/\n",
    "                                 (math.cos(self.altitude)*math.cos(self.latitude)))*np.sign(self.h)"
   ]
  },
  {
   "cell_type": "code",
   "execution_count": 21,
   "metadata": {},
   "outputs": [
    {
     "name": "stdout",
     "output_type": "stream",
     "text": [
      "5.475659008785934\n",
      "18.47789926987885\n"
     ]
    }
   ],
   "source": [
    "altitude = []\n",
    "azimuth = []\n",
    "solar = Sun(Ottawa.latitude, Ottawa.longitude, Ottawa.lsm, day, lst[0],[72,311])\n",
    "print(solar.sunrise/60.0)\n",
    "print(solar.sunset/60.0)"
   ]
  },
  {
   "cell_type": "code",
   "execution_count": 22,
   "metadata": {},
   "outputs": [],
   "source": [
    "for i in range(0, len(lst)-1):\n",
    "    solar.update(lst[i])\n",
    "    altitude.append(solar.altitude/math.pi*180)\n",
    "    azimuth.append(solar.azimuth/math.pi*180)"
   ]
  },
  {
   "cell_type": "code",
   "execution_count": 23,
   "metadata": {},
   "outputs": [
    {
     "data": {
      "text/plain": [
       "<function matplotlib.pyplot.show>"
      ]
     },
     "execution_count": 23,
     "output_type": "execute_result",
     "metadata": {}
    },
    {
     "data": {
      "image/png": "[encoded data removed]"
     },
     "output_type": "display_data",
     "metadata": {}
    }
   ],
   "source": [
    "import matplotlib.pyplot as plt\n",
    "plt.plot(altitude)\n",
    "plt.show"
   ]
  },
  {
   "cell_type": "code",
   "execution_count": 24,
   "metadata": {},
   "outputs": [
    {
     "data": {
      "image/png": "[encoded data removed]"
     },
     "output_type": "display_data",
     "metadata": {}
    }
   ],
   "source": [
    "plt.plot(azimuth)\n",
    "plt.show()"
   ]
  },
  {
   "cell_type": "markdown",
   "metadata": {},
   "source": [
    "Now the sun angle is calculated, need to calculate incident angle to a tilted and oriented surface, with tile angle $\\beta$ and azimuth $A_{s}$.\n",
    "$$ cos\\theta_i = cos\\alpha cos(A-A_s)sin\\beta + sin\\alpha cos\\beta$$"
   ]
  },
  {
   "cell_type": "code",
   "execution_count": null,
   "metadata": {},
   "outputs": [],
   "source": [
    ""
   ]
  }
 ],
 "metadata": {
  "kernelspec": {
   "display_name": "Python 3",
   "language": "python",
   "name": "python3"
  },
  "language_info": {
   "codemirror_mode": {
    "name": "ipython",
    "version": 3.0
   },
   "file_extension": ".py",
   "mimetype": "text/x-python",
   "name": "python",
   "nbconvert_exporter": "python",
   "pygments_lexer": "ipython3",
   "version": "3.5.1"
  }
 },
 "nbformat": 4,
 "nbformat_minor": 0
}